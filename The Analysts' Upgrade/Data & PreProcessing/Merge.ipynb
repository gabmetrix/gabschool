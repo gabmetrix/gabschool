{
 "cells": [
  {
   "cell_type": "code",
   "execution_count": 2,
   "metadata": {},
   "outputs": [
    {
     "name": "stdout",
     "output_type": "stream",
     "text": [
      "Priyatama is ready!\n"
     ]
    }
   ],
   "source": [
    "import pandas as pd\n",
    "print(\"Priyatama is ready!\")"
   ]
  },
  {
   "cell_type": "markdown",
   "metadata": {},
   "source": [
    "## Merge multiple CSV into one big data frame."
   ]
  },
  {
   "cell_type": "code",
   "execution_count": 3,
   "metadata": {},
   "outputs": [
    {
     "data": {
      "text/plain": [
       "(274379, 22)"
      ]
     },
     "execution_count": 3,
     "metadata": {},
     "output_type": "execute_result"
    }
   ],
   "source": [
    "import glob\n",
    "import os\n",
    "\n",
    "# Provide path to folder\n",
    "path = '/Users/milangabriel/Downloads/ipl_male_csv2'\n",
    "\n",
    "# List all CSV files, excluding those with '_info' in the filename\n",
    "all_files = glob.glob(os.path.join(path, '*.csv'))\n",
    "filtered_files = [f for f in all_files if '_info' not in os.path.basename(f)]\n",
    "\n",
    "# Create a list to store individual DataFrames\n",
    "df_list = []\n",
    "\n",
    "# Loop through filtered files to read and append them\n",
    "for file in filtered_files:\n",
    "    df = pd.read_csv(file)\n",
    "    match_id = os.path.splitext(os.path.basename(file))[0]\n",
    "    df['match_id'] = match_id\n",
    "    df_list.append(df)\n",
    "\n",
    "# Combine all DataFrames into one\n",
    "combined_df = pd.concat(df_list, ignore_index=True)\n",
    "\n",
    "# Display information about the combined DataFrame\n",
    "combined_df.shape"
   ]
  },
  {
   "cell_type": "code",
   "execution_count": 4,
   "metadata": {},
   "outputs": [],
   "source": [
    "df = combined_df.copy()\n",
    "df['start_date'] = pd.to_datetime(df['start_date'])\n",
    "# Create a new column 'year' containing the year extracted from 'start_date'\n",
    "df['year'] = df['start_date'].dt.year"
   ]
  },
  {
   "cell_type": "code",
   "execution_count": 5,
   "metadata": {},
   "outputs": [
    {
     "data": {
      "text/plain": [
       "year\n",
       "2025    13459\n",
       "Name: count, dtype: int64"
      ]
     },
     "execution_count": 5,
     "metadata": {},
     "output_type": "execute_result"
    }
   ],
   "source": [
    "df2 = df[df['start_date'].dt.year == 2025]\n",
    "df2.year.value_counts()"
   ]
  },
  {
   "cell_type": "code",
   "execution_count": 6,
   "metadata": {},
   "outputs": [],
   "source": [
    "df.to_csv('ipl_2025.csv')"
   ]
  }
 ],
 "metadata": {
  "kernelspec": {
   "display_name": "Python 3",
   "language": "python",
   "name": "python3"
  },
  "language_info": {
   "codemirror_mode": {
    "name": "ipython",
    "version": 3
   },
   "file_extension": ".py",
   "mimetype": "text/x-python",
   "name": "python",
   "nbconvert_exporter": "python",
   "pygments_lexer": "ipython3",
   "version": "3.12.4"
  }
 },
 "nbformat": 4,
 "nbformat_minor": 2
}
